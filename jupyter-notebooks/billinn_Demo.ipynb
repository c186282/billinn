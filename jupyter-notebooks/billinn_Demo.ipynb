{
 "cells": [
  {
   "cell_type": "markdown",
   "id": "14194575-2de6-4249-8853-c4d5d8a9fe51",
   "metadata": {},
   "source": [
    "# Import"
   ]
  },
  {
   "cell_type": "code",
   "execution_count": null,
   "id": "cf2f9c3a-60c7-45fe-acfd-586ffdeeb10b",
   "metadata": {},
   "outputs": [],
   "source": [
    "import astropy.units as u\n",
    "from pathlib import Path\n",
    "import sys"
   ]
  },
  {
   "cell_type": "code",
   "execution_count": null,
   "id": "d784982c-f023-41f9-af0c-52b02c831734",
   "metadata": {},
   "outputs": [],
   "source": [
    "get_top = !git rev-parse --show-toplevel\n",
    "get_top = Path(get_top[0])/\"src/billinn\"\n",
    "sys.path.append(str(get_top) )\n",
    "import billinn as bn"
   ]
  },
  {
   "cell_type": "markdown",
   "id": "e01d36e3-b02a-46b1-a340-73838bf76a11",
   "metadata": {},
   "source": [
    "# Drive a car"
   ]
  },
  {
   "cell_type": "code",
   "execution_count": null,
   "id": "7c7f1b52-dc44-46ce-9d63-acad2fc1164f",
   "metadata": {},
   "outputs": [],
   "source": [
    "car = bn.Car(weight = 100*u.kg,\n",
    "                 length = 3.5*u.m,\n",
    "                 width = 2.1*u.m,\n",
    "                 engine_size = 4*u.l\n",
    "            )"
   ]
  },
  {
   "cell_type": "code",
   "execution_count": null,
   "id": "1e3803ff-84ed-4402-8540-707c974f7cd1",
   "metadata": {},
   "outputs": [],
   "source": [
    "car.area"
   ]
  },
  {
   "cell_type": "code",
   "execution_count": null,
   "id": "d2092f4f-7042-47dc-93a2-95455116ad2e",
   "metadata": {},
   "outputs": [],
   "source": [
    "bike = bn.Bike(weight=5*u.kg,\n",
    "               length=.8*u.m,\n",
    "               width= .02*u.m\n",
    "              )"
   ]
  },
  {
   "cell_type": "markdown",
   "id": "6aca6903-6dd8-48a7-be2c-b631c5f254a0",
   "metadata": {},
   "source": [
    "Run the cells below and first see what the default value is then see that when we try to inpuyt bad values they will not work!"
   ]
  },
  {
   "cell_type": "code",
   "execution_count": null,
   "id": "054a7f35-0197-4be1-92ba-03eeb7326a1e",
   "metadata": {},
   "outputs": [],
   "source": [
    "bike.number_of_gears"
   ]
  },
  {
   "cell_type": "code",
   "execution_count": null,
   "id": "582d7c19-d9f0-4d25-8b4b-84683ac24ff8",
   "metadata": {},
   "outputs": [],
   "source": [
    "bike.number_of_gears = 2.5"
   ]
  },
  {
   "cell_type": "code",
   "execution_count": null,
   "id": "5943a831-8814-4a6e-a218-b26921b7ae4b",
   "metadata": {},
   "outputs": [],
   "source": [
    "bike.number_of_gears = -3"
   ]
  },
  {
   "cell_type": "code",
   "execution_count": null,
   "id": "5c816259-dce2-47e4-b1dd-257eded1c341",
   "metadata": {},
   "outputs": [],
   "source": [
    "bike.number_of_gears = 18"
   ]
  },
  {
   "cell_type": "code",
   "execution_count": null,
   "id": "d24390e0-7e90-4b26-87b8-1e868e0a0023",
   "metadata": {},
   "outputs": [],
   "source": [
    "bike.number_of_gears"
   ]
  },
  {
   "cell_type": "code",
   "execution_count": null,
   "id": "10fa54af-78bf-46b2-b07a-cf002bb6e46f",
   "metadata": {},
   "outputs": [],
   "source": []
  }
 ],
 "metadata": {
  "kernelspec": {
   "display_name": "Python 3 (ipykernel)",
   "language": "python",
   "name": "python3"
  },
  "language_info": {
   "codemirror_mode": {
    "name": "ipython",
    "version": 3
   },
   "file_extension": ".py",
   "mimetype": "text/x-python",
   "name": "python",
   "nbconvert_exporter": "python",
   "pygments_lexer": "ipython3",
   "version": "3.12.11"
  }
 },
 "nbformat": 4,
 "nbformat_minor": 5
}
