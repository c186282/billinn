{
 "cells": [
  {
   "cell_type": "markdown",
   "id": "14194575-2de6-4249-8853-c4d5d8a9fe51",
   "metadata": {},
   "source": [
    "# Import"
   ]
  },
  {
   "cell_type": "code",
   "execution_count": null,
   "id": "cf2f9c3a-60c7-45fe-acfd-586ffdeeb10b",
   "metadata": {},
   "outputs": [],
   "source": [
    "import astropy.units as u\n",
    "from pathlib import Path\n",
    "import sys"
   ]
  },
  {
   "cell_type": "code",
   "execution_count": null,
   "id": "d784982c-f023-41f9-af0c-52b02c831734",
   "metadata": {},
   "outputs": [],
   "source": [
    "get_top = !git rev-parse --show-toplevel\n",
    "get_top = Path(get_top[0])/\"src/billinn\"\n",
    "sys.path.append(str(get_top) )\n",
    "import billinn as bn"
   ]
  },
  {
   "cell_type": "markdown",
   "id": "e01d36e3-b02a-46b1-a340-73838bf76a11",
   "metadata": {},
   "source": [
    "# Drive a car"
   ]
  },
  {
   "cell_type": "code",
   "execution_count": null,
   "id": "7c7f1b52-dc44-46ce-9d63-acad2fc1164f",
   "metadata": {},
   "outputs": [],
   "source": [
    "car = bn.Car(weight = 100*u.kg,\n",
    "                 length = 3.5*u.m,\n",
    "                 width = 2.1*u.m,\n",
    "                 engine_size = 4*u.l\n",
    "            )"
   ]
  },
  {
   "cell_type": "code",
   "execution_count": null,
   "id": "1e3803ff-84ed-4402-8540-707c974f7cd1",
   "metadata": {},
   "outputs": [],
   "source": [
    "car.area"
   ]
  },
  {
   "cell_type": "code",
   "execution_count": null,
   "id": "d2092f4f-7042-47dc-93a2-95455116ad2e",
   "metadata": {},
   "outputs": [],
   "source": []
  }
 ],
 "metadata": {
  "kernelspec": {
   "display_name": "Python 3 (ipykernel)",
   "language": "python",
   "name": "python3"
  },
  "language_info": {
   "codemirror_mode": {
    "name": "ipython",
    "version": 3
   },
   "file_extension": ".py",
   "mimetype": "text/x-python",
   "name": "python",
   "nbconvert_exporter": "python",
   "pygments_lexer": "ipython3",
   "version": "3.12.11"
  }
 },
 "nbformat": 4,
 "nbformat_minor": 5
}
