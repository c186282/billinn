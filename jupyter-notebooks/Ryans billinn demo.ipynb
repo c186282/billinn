{
 "cells": [
  {
   "cell_type": "markdown",
   "id": "333eff8b-f8fe-407a-90b9-5706ed6e66b7",
   "metadata": {},
   "source": [
    "Import"
   ]
  },
  {
   "cell_type": "code",
   "execution_count": null,
   "id": "6bfab15f-7e2e-4b6c-b3c0-4497d35fc0e3",
   "metadata": {},
   "outputs": [],
   "source": [
    "import astropy.units as u\n",
    "from pathlib import Path\n",
    "import sys"
   ]
  },
  {
   "cell_type": "code",
   "execution_count": null,
   "id": "c3a91b3b-69b5-4009-a9c9-dfcceb79d904",
   "metadata": {},
   "outputs": [],
   "source": [
    "get_top = !git rev-parse --show-toplevel\n",
    "get_top = Path(get_top[0])/\"src/billinn\"\n",
    "sys.path.append(str(get_top) )\n",
    "import billinn as bn"
   ]
  },
  {
   "cell_type": "markdown",
   "id": "6e0dec2b-4bd4-4ed3-9bb1-8442245f2a03",
   "metadata": {},
   "source": [
    "Drive Truck"
   ]
  },
  {
   "cell_type": "code",
   "execution_count": 5,
   "id": "23870723-d5ab-460d-bb9f-87a56044c2de",
   "metadata": {},
   "outputs": [
    {
     "ename": "SyntaxError",
     "evalue": "expected ':' (792325713.py, line 8)",
     "output_type": "error",
     "traceback": [
      "  \u001b[36mCell\u001b[39m\u001b[36m \u001b[39m\u001b[32mIn[5]\u001b[39m\u001b[32m, line 8\u001b[39m\n\u001b[31m    \u001b[39m\u001b[31m)\u001b[39m\n     ^\n\u001b[31mSyntaxError\u001b[39m\u001b[31m:\u001b[39m expected ':'\n"
     ]
    }
   ],
   "source": [
    "class Truck (Vehicle):\n",
    "\n",
    "    def __init__(self,\n",
    "    weight: u.Quantity[u.kg],\n",
    "    length: u.Quantity[u.m],\n",
    "    width : u.Quantity[u.m],\n",
    "    truck_bed_length: u.Quantity[u.m]\n",
    "            )"
   ]
  },
  {
   "cell_type": "code",
   "execution_count": null,
   "id": "faf32632-5eb0-447e-9ec7-e636b6678365",
   "metadata": {},
   "outputs": [],
   "source": []
  }
 ],
 "metadata": {
  "kernelspec": {
   "display_name": "Python 3 (ipykernel)",
   "language": "python",
   "name": "python3"
  },
  "language_info": {
   "codemirror_mode": {
    "name": "ipython",
    "version": 3
   },
   "file_extension": ".py",
   "mimetype": "text/x-python",
   "name": "python",
   "nbconvert_exporter": "python",
   "pygments_lexer": "ipython3",
   "version": "3.13.5"
  }
 },
 "nbformat": 4,
 "nbformat_minor": 5
}
